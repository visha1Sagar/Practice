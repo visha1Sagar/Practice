{
 "cells": [
  {
   "cell_type": "markdown",
   "metadata": {},
   "source": [
    "## Installing required libraries"
   ]
  },
  {
   "cell_type": "code",
   "execution_count": null,
   "metadata": {
    "vscode": {
     "languageId": "plaintext"
    }
   },
   "outputs": [],
   "source": [
    "!pip install --quiet --upgrade langchain langchain-community gradio pypdf langchain-openai faiss-cpu"
   ]
  },
  {
   "cell_type": "markdown",
   "metadata": {},
   "source": [
    "## loading credentials from .env"
   ]
  },
  {
   "cell_type": "code",
   "execution_count": null,
   "metadata": {
    "vscode": {
     "languageId": "plaintext"
    }
   },
   "outputs": [],
   "source": [
    "import os\n",
    "from dotenv import load_dotenv\n",
    "\n",
    "load_dotenv('azure_credentials.env')\n",
    "\n",
    "EMBEDDING_MODEL_NAME = os.getenv(\"EMBEDDING_MODEL_NAME\")\n",
    "EMBEDDING_ENDPOINT = os.getenv(\"EMBEDDING_ENDPOINT\")\n",
    "EMBEDDING_API_VERSION = os.getenv(\"EMBEDDING_API_VERSION\")\n",
    "EMBEDDING_API_KEY = os.getenv(\"EMBEDDING_API_KEY\")\n",
    "AZURE_OPENAI_API_KEY = os.getenv(\"AZURE_OPENAI_API_KEY\")\n",
    "API_VERSION = os.getenv(\"API_VERSION\")\n",
    "AZURE_ENDPOINT = os.getenv(\"AZURE_ENDPOINT\")"
   ]
  },
  {
   "cell_type": "markdown",
   "metadata": {},
   "source": [
    "## Importing required libraries"
   ]
  },
  {
   "cell_type": "code",
   "execution_count": null,
   "metadata": {
    "vscode": {
     "languageId": "plaintext"
    }
   },
   "outputs": [],
   "source": [
    "from langchain_openai import AzureChatOpenAI, AzureOpenAIEmbeddings\n",
    "from langchain_core.output_parsers import StrOutputParser\n",
    "from langchain_core.runnables import RunnablePassthrough\n",
    "from langchain_community.vectorstores import FAISS\n",
    "\n",
    "from langchain_core.vectorstores import InMemoryVectorStore\n",
    "from langchain_core.runnables import RunnableParallel\n",
    "\n",
    "from langchain_core.prompts import ChatPromptTemplate\n",
    "\n",
    "from langchain_community.document_loaders import PyPDFLoader"
   ]
  },
  {
   "cell_type": "markdown",
   "metadata": {},
   "source": [
    "## Defining LLMs"
   ]
  },
  {
   "cell_type": "code",
   "execution_count": null,
   "metadata": {
    "vscode": {
     "languageId": "plaintext"
    }
   },
   "outputs": [],
   "source": [
    "llm = AzureChatOpenAI(\n",
    "    api_key=AZURE_OPENAI_API_KEY  ,\n",
    "    api_version=API_VERSION,\n",
    "    azure_endpoint = AZURE_ENDPOINT\n",
    "    )\n",
    "\n",
    "llm_2 = AzureChatOpenAI(\n",
    "    api_key=AZURE_OPENAI_API_KEY  ,\n",
    "    api_version=API_VERSION,\n",
    "    azure_endpoint = AZURE_ENDPOINT\n",
    "    )"
   ]
  },
  {
   "cell_type": "markdown",
   "metadata": {},
   "source": [
    "## Defining prompts"
   ]
  },
  {
   "cell_type": "code",
   "execution_count": null,
   "metadata": {
    "vscode": {
     "languageId": "plaintext"
    }
   },
   "outputs": [],
   "source": [
    "\n",
    "\n",
    "prompt_ = ChatPromptTemplate.from_messages([\n",
    "    (\n",
    "        \"system\",\n",
    "        \"\"\"You are an expert assistant specialized in answering specific types\n",
    "         of questions—such as multiple choice, true/false, and multiple correct\n",
    "          selections—on a designated topic. You have access to key contextual\n",
    "           information from a book. Use this context to accurately answer the\n",
    "            user’s question. If the context lacks critical detail, supplement\n",
    "             your response with relevant knowledge to maintain accuracy. Provide\n",
    "              a concise, precise answer that matches the format of the question\n",
    "               (e.g., options for MCQs, True/False for statements), ensuring the\n",
    "                response is complete and directly addresses the question.\"\"\",\n",
    "    ),\n",
    "    (\"user\", \"\"\"Please answer this question based on the context\n",
    "     provided. Question: {question}. Context: {context}\"\"\"),\n",
    "])\n",
    "\n",
    "simple_prompt = ChatPromptTemplate.from_template(\"Please answer this question with very concise explaination. Question: {question}.\")"
   ]
  },
  {
   "cell_type": "markdown",
   "metadata": {},
   "source": [
    "## Setting up Vector DB"
   ]
  },
  {
   "cell_type": "markdown",
   "metadata": {},
   "source": [
    "vectorstore = FAISS.from_documents(book_pages, embeddings)\n",
    "retriever = vectorstore.as_retriever()\n"
   ]
  },
  {
   "cell_type": "markdown",
   "metadata": {},
   "source": [
    "## Chains"
   ]
  },
  {
   "cell_type": "code",
   "execution_count": null,
   "metadata": {
    "vscode": {
     "languageId": "plaintext"
    }
   },
   "outputs": [],
   "source": [
    "def format_docs(docs):\n",
    "    return \"\\n\\n\".join(doc.page_content for doc in docs)\n",
    "\n",
    "# Define the second chain with LLM 1\n",
    "rag_chain = (\n",
    "    {\"context\": retriever | format_docs, \"question\": RunnablePassthrough()}\n",
    "    | prompt_\n",
    "    | llm\n",
    "    | StrOutputParser()\n",
    ")\n",
    "\n",
    "# Define the second chain with LLM 2\n",
    "rag_chain_2 = (\n",
    "    {\"context\": retriever | format_docs, \"question\": RunnablePassthrough()}\n",
    "    | prompt_\n",
    "    | llm_2  # Second LLM instance\n",
    "    | StrOutputParser()\n",
    ")\n",
    "\n",
    "# Define the third chain with LLM, without RAG\n",
    "chain3 = (\n",
    "    simple_prompt\n",
    "    | llm_2  # Second LLM instance\n",
    "    | StrOutputParser()\n",
    ")\n",
    "\n",
    "# Run all chains in parallel with RunnableParallel\n",
    "parallel_chain = RunnableParallel(\n",
    "    {\"GPT_4o_MINI\": rag_chain, \"GPT_4o\": rag_chain_2, \"GP 4o Raw\": chain3}\n",
    ")\n",
    "\n"
   ]
  },
  {
   "cell_type": "markdown",
   "metadata": {},
   "source": []
  }
 ],
 "metadata": {
  "language_info": {
   "name": "python"
  }
 },
 "nbformat": 4,
 "nbformat_minor": 2
}
