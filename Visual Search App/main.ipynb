{
 "cells": [
  {
   "cell_type": "markdown",
   "metadata": {},
   "source": [
    "### Install Gradio for the interactive web interface\n"
   ]
  },
  {
   "cell_type": "code",
   "execution_count": null,
   "metadata": {
    "vscode": {
     "languageId": "plaintext"
    }
   },
   "outputs": [],
   "source": [
    "!pip install gradio --quiet"
   ]
  },
  {
   "cell_type": "markdown",
   "metadata": {},
   "source": [
    "# Import necessary libraries"
   ]
  },
  {
   "cell_type": "code",
   "execution_count": null,
   "metadata": {
    "vscode": {
     "languageId": "plaintext"
    }
   },
   "outputs": [],
   "source": [
    "from transformers import pipeline\n",
    "\n",
    "import io\n",
    "from io import BytesIO\n",
    "\n",
    "from PIL import Image\n",
    "import requests\n",
    "\n",
    "from bs4 import BeautifulSoup\n",
    "\n",
    "import gradio as gr"
   ]
  },
  {
   "cell_type": "markdown",
   "metadata": {},
   "source": [
    "# Loading pre-trained model from hugging face"
   ]
  },
  {
   "cell_type": "code",
   "execution_count": null,
   "metadata": {
    "vscode": {
     "languageId": "plaintext"
    }
   },
   "outputs": [],
   "source": [
    "# Load pre-trained model for image captioning (by Salesforce)\n",
    "pipe = pipeline(\"image-to-text\", model=\"Salesforce/blip-image-captioning-large\")"
   ]
  },
  {
   "cell_type": "markdown",
   "metadata": {},
   "source": [
    "# 1. Generate Caption from Image\n"
   ]
  },
  {
   "cell_type": "code",
   "execution_count": null,
   "metadata": {
    "vscode": {
     "languageId": "plaintext"
    }
   },
   "outputs": [],
   "source": [
    "# Function to generate a text caption from an uploaded image\n",
    "def generate_caption(image):\n",
    "    try:\n",
    "        caption = pipe(image)[0]['generated_text']\n",
    "        return caption\n",
    "    except Exception as e:\n",
    "        return f\"An error occurred: {e}\""
   ]
  },
  {
   "cell_type": "markdown",
   "metadata": {},
   "source": [
    "# 2. Image Search Function\n"
   ]
  },
  {
   "cell_type": "code",
   "execution_count": null,
   "metadata": {
    "vscode": {
     "languageId": "plaintext"
    }
   },
   "outputs": [],
   "source": [
    "# Fetches image URLs by performing a Google Image search based on text\n",
    "def google_image_search_from_text(search_term, num_images=10):\n",
    "    try:\n",
    "        search_url = f\"https://www.google.com/search?q={search_term}&tbm=isch\"\n",
    "        response = requests.get(search_url)\n",
    "        response.raise_for_status()  # Ensure request is successful\n",
    "\n",
    "        soup = BeautifulSoup(response.content, \"html.parser\")\n",
    "        img_tags = soup.find_all(\"img\")\n",
    "\n",
    "        image_urls = []\n",
    "        for i, img_tag in enumerate(img_tags):\n",
    "            if i >= num_images+1:  # Limit search to first few results\n",
    "                break\n",
    "            if 'src' in img_tag.attrs:\n",
    "                image_urls.append(img_tag['src'])\n",
    "        return image_urls\n",
    "    except requests.exceptions.RequestException as e:\n",
    "        print(f\"Error during request: {e}\")\n",
    "        return []\n",
    "    except Exception as e:\n",
    "        print(f\"An error occurred: {e}\")\n",
    "        return []"
   ]
  },
  {
   "cell_type": "markdown",
   "metadata": {},
   "source": [
    "# 3. Read Image from URL\n"
   ]
  },
  {
   "cell_type": "code",
   "execution_count": null,
   "metadata": {
    "vscode": {
     "languageId": "plaintext"
    }
   },
   "outputs": [],
   "source": [
    "# Fetches and opens an image from a URL for processing\n",
    "def read_image_url(image_url):\n",
    "    try:\n",
    "        response = requests.get(image_url, stream=True)\n",
    "        response.raise_for_status()  # Ensure successful download\n",
    "        image = Image.open(BytesIO(response.content))\n",
    "        return image\n",
    "    except requests.exceptions.RequestException as e:\n",
    "        return f\"Error downloading image: {e}\"\n",
    "    except Exception as e:\n",
    "        return f\"An error occurred: {e}\""
   ]
  },
  {
   "cell_type": "markdown",
   "metadata": {},
   "source": [
    "# 4. Search Similar Images\n"
   ]
  },
  {
   "cell_type": "code",
   "execution_count": null,
   "metadata": {
    "vscode": {
     "languageId": "plaintext"
    }
   },
   "outputs": [],
   "source": [
    "# Using the caption, performs a similar image search and retrieves matching results\n",
    "def search_similar_images(image):\n",
    "    text = generate_caption(image)\n",
    "    try:\n",
    "        urls = google_image_search_from_text(text)\n",
    "        returned_images = []\n",
    "\n",
    "        for url in urls[1:]:  # Skip the first image (usually irrelevant)\n",
    "            try:\n",
    "                returned_images.append(read_image_url(url))\n",
    "            except:\n",
    "                continue\n",
    "        return returned_images\n",
    "    except:\n",
    "        return []"
   ]
  },
  {
   "cell_type": "markdown",
   "metadata": {},
   "source": [
    "# 5. Gradio Interface Setup"
   ]
  },
  {
   "cell_type": "code",
   "execution_count": null,
   "metadata": {
    "vscode": {
     "languageId": "plaintext"
    }
   },
   "outputs": [],
   "source": [
    "# Setting up the Gradio interface for easy user interaction\n",
    "with gr.Blocks() as demo:\n",
    "    gr.Markdown(\"## Visual Search App: Upload an Image to Find Similar Ones\")\n",
    "\n",
    "    # Upload and button row\n",
    "    with gr.Row():\n",
    "        image_input = gr.Image(type=\"pil\", label=\"Upload an Image\")\n",
    "        search_button = gr.Button(\"Search\")\n",
    "\n",
    "    # Display results in a gallery format\n",
    "    result_gallery = gr.Gallery(label=\"Search Results\", show_label=True)\n",
    "\n",
    "    # Connect search function to button and gallery output\n",
    "    search_button.click(fn=search_similar_images, inputs=image_input, outputs=result_gallery)\n"
   ]
  },
  {
   "cell_type": "code",
   "execution_count": null,
   "metadata": {
    "vscode": {
     "languageId": "plaintext"
    }
   },
   "outputs": [],
   "source": [
    "# Launch the Gradio app for interactive exploration\n",
    "demo.launch()"
   ]
  },
  {
   "cell_type": "markdown",
   "metadata": {},
   "source": []
  }
 ],
 "metadata": {
  "language_info": {
   "name": "python"
  }
 },
 "nbformat": 4,
 "nbformat_minor": 2
}
