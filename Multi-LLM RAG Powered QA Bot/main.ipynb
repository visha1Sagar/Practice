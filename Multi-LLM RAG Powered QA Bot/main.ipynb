{
 "cells": [
  {
   "cell_type": "markdown",
   "metadata": {},
   "source": [
    "## Installing required libraries"
   ]
  },
  {
   "cell_type": "code",
   "execution_count": null,
   "metadata": {
    "vscode": {
     "languageId": "plaintext"
    }
   },
   "outputs": [],
   "source": [
    "!pip install --quiet --upgrade langchain langchain-community gradio pypdf langchain-openai faiss-cpu"
   ]
  },
  {
   "cell_type": "markdown",
   "metadata": {},
   "source": [
    "## loading credentials from .env"
   ]
  },
  {
   "cell_type": "code",
   "execution_count": null,
   "metadata": {
    "vscode": {
     "languageId": "plaintext"
    }
   },
   "outputs": [],
   "source": [
    "import os\n",
    "from dotenv import load_dotenv\n",
    "\n",
    "load_dotenv('azure_credentials.env')\n",
    "\n",
    "EMBEDDING_MODEL_NAME = os.getenv(\"EMBEDDING_MODEL_NAME\")\n",
    "EMBEDDING_ENDPOINT = os.getenv(\"EMBEDDING_ENDPOINT\")\n",
    "EMBEDDING_API_VERSION = os.getenv(\"EMBEDDING_API_VERSION\")\n",
    "EMBEDDING_API_KEY = os.getenv(\"EMBEDDING_API_KEY\")\n",
    "AZURE_OPENAI_API_KEY = os.getenv(\"AZURE_OPENAI_API_KEY\")\n",
    "API_VERSION = os.getenv(\"API_VERSION\")\n",
    "AZURE_ENDPOINT = os.getenv(\"AZURE_ENDPOINT\")"
   ]
  },
  {
   "cell_type": "markdown",
   "metadata": {},
   "source": [
    "## Importing required libraries"
   ]
  },
  {
   "cell_type": "code",
   "execution_count": null,
   "metadata": {
    "vscode": {
     "languageId": "plaintext"
    }
   },
   "outputs": [],
   "source": [
    "from langchain_openai import AzureChatOpenAI, AzureOpenAIEmbeddings\n",
    "from langchain_core.output_parsers import StrOutputParser\n",
    "from langchain_core.runnables import RunnablePassthrough\n",
    "from langchain_community.vectorstores import FAISS\n",
    "\n",
    "from langchain_core.vectorstores import InMemoryVectorStore\n",
    "from langchain_core.runnables import RunnableParallel\n",
    "\n",
    "from langchain_core.prompts import ChatPromptTemplate\n",
    "\n",
    "from langchain_community.document_loaders import PyPDFLoader\n",
    "\n",
    "from utils import *"
   ]
  },
  {
   "cell_type": "markdown",
   "metadata": {},
   "source": [
    "## Defining LLMs"
   ]
  },
  {
   "cell_type": "code",
   "execution_count": null,
   "metadata": {
    "vscode": {
     "languageId": "plaintext"
    }
   },
   "outputs": [],
   "source": [
    "llm = AzureChatOpenAI(\n",
    "    api_key=AZURE_OPENAI_API_KEY  ,\n",
    "    api_version=API_VERSION,\n",
    "    azure_endpoint = AZURE_ENDPOINT\n",
    "    )\n",
    "\n",
    "llm_2 = AzureChatOpenAI(\n",
    "    api_key=AZURE_OPENAI_API_KEY  ,\n",
    "    api_version=API_VERSION,\n",
    "    azure_endpoint = AZURE_ENDPOINT\n",
    "    )"
   ]
  },
  {
   "cell_type": "markdown",
   "metadata": {},
   "source": [
    "## Prompts"
   ]
  },
  {
   "cell_type": "code",
   "execution_count": null,
   "metadata": {
    "vscode": {
     "languageId": "plaintext"
    }
   },
   "outputs": [],
   "source": [
    "from utils import prompt_ as rag_prompt, simple_prompt\n"
   ]
  },
  {
   "cell_type": "markdown",
   "metadata": {},
   "source": [
    "## Getting Vector DB's Retriever"
   ]
  },
  {
   "cell_type": "code",
   "execution_count": null,
   "metadata": {
    "vscode": {
     "languageId": "plaintext"
    }
   },
   "outputs": [],
   "source": [
    "\n",
    "retriever = get_retriever([\"book_name.pdf\"], embeddings=embeddings)"
   ]
  },
  {
   "cell_type": "markdown",
   "metadata": {},
   "source": [
    "## Chains"
   ]
  },
  {
   "cell_type": "code",
   "execution_count": null,
   "metadata": {
    "vscode": {
     "languageId": "plaintext"
    }
   },
   "outputs": [],
   "source": [
    "from utils import get_rag_chain\n",
    "\n",
    "\n",
    "# Define the second chain with LLM 2\n",
    "rag_chain_1 = get_rag_chain(retriever, llm, prompt_)\n",
    "rag_chain_2 = get_rag_chain(retriever, llm2, prompt_)\n",
    "\n",
    "# Define the third chain with LLM, without RAG\n",
    "chain3 = (\n",
    "    simple_prompt\n",
    "    | llm2  # Second LLM instance\n",
    "    | StrOutputParser()\n",
    ")\n",
    "\n",
    "# Run all chains in parallel with RunnableParallel\n",
    "parallel_chain = RunnableParallel(\n",
    "    {\"GPT_4o_MINI\": rag_chain, \"GPT_4o\": rag_chain_2, \"GP 4o Raw\": chain3}\n",
    ")\n"
   ]
  },
  {
   "cell_type": "markdown",
   "metadata": {},
   "source": [
    "# Gradio"
   ]
  },
  {
   "cell_type": "code",
   "execution_count": null,
   "metadata": {},
   "outputs": [],
   "source": [
    "import gradio as gr"
   ]
  },
  {
   "cell_type": "markdown",
   "metadata": {},
   "source": [
    "# List for storing prev asked questions"
   ]
  },
  {
   "cell_type": "code",
   "execution_count": null,
   "metadata": {},
   "outputs": [],
   "source": [
    "qa_history = []"
   ]
  },
  {
   "cell_type": "code",
   "execution_count": null,
   "metadata": {
    "vscode": {
     "languageId": "plaintext"
    }
   },
   "outputs": [],
   "source": [
    "# Function to call the chains and storing the answers in list.\n",
    "def generate_response(message, _):\n",
    "    global Questions_Answers\n",
    "    responses = parallel_chain.invoke(message)\n",
    "    qa_history.append({\"question\": message, \"response\": responses})\n",
    "\n",
    "    return responses[\"GPT_4o_MINI\"], responses[\"GPT_4o\"], responses[\"GP 4o Raw\"]"
   ]
  },
  {
   "cell_type": "code",
   "execution_count": null,
   "metadata": {
    "vscode": {
     "languageId": "plaintext"
    }
   },
   "outputs": [],
   "source": [
    "# Function to filter previous responses based on a search term\n",
    "def search_history(search_term):\n",
    "    # If search_term is empty, return all questions\n",
    "    if search_term == \"\":\n",
    "        return [(qa[\"question\"], qa[\"response\"]) for i, qa in enumerate(qa_history)]\n",
    "\n",
    "    # Filter questions that contain the search term\n",
    "    filtered_history = [(qa[\"question\"], str(qa[\"response\"])) for qa in qa_history if search_term.lower() in qa[\"question\"].lower()]\n",
    "    return filtered_history"
   ]
  },
  {
   "cell_type": "markdown",
   "metadata": {},
   "source": [
    "### Gradio Interface"
   ]
  },
  {
   "cell_type": "code",
   "execution_count": null,
   "metadata": {
    "vscode": {
     "languageId": "plaintext"
    }
   },
   "outputs": [],
   "source": [
    "with gr.Blocks() as files:\n",
    "    file_output = gr.File()\n",
    "    upload_button = gr.UploadButton(\"Click to Upload a File\", file_types=[\"image\", \"video\"], file_count=\"multiple\")\n",
    "    upload_button.upload(upload_file, upload_button, file_output)\n",
    "\n",
    "# Gradio Interface for Chatbot Tab\n",
    "with gr.Blocks(fill_width=True, fill_height=True) as chatbot_tab:\n",
    "    gr.Markdown(\"### Chatbot\")\n",
    "\n",
    "    # Input box for user question\n",
    "    question_input = gr.Textbox(label=\"Ask a question\")\n",
    "\n",
    "\n",
    "    gr.HTML(\"<hr>\")\n",
    "    gr.Markdown(\"GPT 4o Mini RAG response\")\n",
    "    response1 = gr.Markdown(\"\")\n",
    "\n",
    "\n",
    "    gr.HTML(\"<hr>\")\n",
    "    gr.Markdown(\"GPT 4o RAG response\")\n",
    "    response2 = gr.Markdown(\"\")\n",
    "\n",
    "    gr.HTML(\"<hr>\")\n",
    "    gr.Markdown(\"GPT 4o response\")\n",
    "    response3 = gr.Markdown(\"\")\n",
    "\n",
    "    gr.HTML(\"<hr>\")\n",
    "\n",
    "    # Button to submit question\n",
    "    submit_button = gr.Button(\"Submit\")\n",
    "\n",
    "    # Connect question input to chatbot function and display response\n",
    "    submit_button.click(fn=generate_response,\n",
    "                        inputs=question_input, outputs=[response1, response2, response3])\n",
    "\n",
    "\n",
    "# Gradio Interface for Previous Responses Tab\n",
    "with gr.Blocks() as history_tab:\n",
    "    gr.Markdown(\"### Previous Responses\")\n",
    "\n",
    "    # Search bar to filter questions\n",
    "    search_input = gr.Textbox(label=\"Search questions\")\n",
    "\n",
    "    # Display previous questions in rows\n",
    "    questions_output = gr.Dataframe(headers=[\"Question\", \"Response\"], interactive=False)\n",
    "\n",
    "    # Update questions output based on search term\n",
    "    search_input.change(fn=search_history, inputs=search_input, outputs=questions_output)\n",
    "\n",
    "\n",
    "# Combine the tabs into a single interface\n",
    "with gr.Blocks() as app:\n",
    "    with gr.Tabs():\n",
    "        with gr.TabItem(\"Chatbot\"):\n",
    "            chatbot_tab.render()\n",
    "\n",
    "        with gr.TabItem(\"Previous Responses\"):\n",
    "            history_tab.render()"
   ]
  },
  {
   "cell_type": "code",
   "execution_count": null,
   "metadata": {
    "vscode": {
     "languageId": "plaintext"
    }
   },
   "outputs": [],
   "source": [
    "app.launch()"
   ]
  },
  {
   "cell_type": "code",
   "execution_count": null,
   "metadata": {
    "vscode": {
     "languageId": "plaintext"
    }
   },
   "outputs": [],
   "source": []
  }
 ],
 "metadata": {
  "language_info": {
   "name": "python"
  }
 },
 "nbformat": 4,
 "nbformat_minor": 2
}
